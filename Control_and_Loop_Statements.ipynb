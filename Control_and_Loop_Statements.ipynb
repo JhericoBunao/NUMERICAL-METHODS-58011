{
  "nbformat": 4,
  "nbformat_minor": 0,
  "metadata": {
    "colab": {
      "name": "Control_and_Loop_Statements.ipynb",
      "provenance": [],
      "collapsed_sections": [],
      "authorship_tag": "ABX9TyN91ePHJkZ3aQqyVvTCGTWt",
      "include_colab_link": true
    },
    "kernelspec": {
      "name": "python3",
      "display_name": "Python 3"
    },
    "language_info": {
      "name": "python"
    }
  },
  "cells": [
    {
      "cell_type": "markdown",
      "metadata": {
        "id": "view-in-github",
        "colab_type": "text"
      },
      "source": [
        "<a href=\"https://colab.research.google.com/github/JhericoBunao/NUMERICAL-METHODS-58011/blob/main/Control_and_Loop_Statements.ipynb\" target=\"_parent\"><img src=\"https://colab.research.google.com/assets/colab-badge.svg\" alt=\"Open In Colab\"/></a>"
      ]
    },
    {
      "cell_type": "markdown",
      "source": [
        "**IF STATEMENT**"
      ],
      "metadata": {
        "id": "Nb5b3MIebofW"
      }
    },
    {
      "cell_type": "code",
      "source": [
        "a = 100\n",
        "b = 100\n",
        "\n",
        "if b>a:\n",
        "  print(\"b is greater than a\")"
      ],
      "metadata": {
        "id": "9CUnGM1jbrL-"
      },
      "execution_count": null,
      "outputs": []
    },
    {
      "cell_type": "markdown",
      "source": [
        "**ELIF STATEMENT**"
      ],
      "metadata": {
        "id": "QU8_9ofWddr1"
      }
    },
    {
      "cell_type": "code",
      "source": [
        "if b>a:\n",
        "  print(\"b is greater than a\")\n",
        "elif a>b:\n",
        "  print(\"a is greater than b\")"
      ],
      "metadata": {
        "id": "TazS1aPbc5wQ"
      },
      "execution_count": null,
      "outputs": []
    },
    {
      "cell_type": "markdown",
      "source": [
        "**ELSE STATEMENT**"
      ],
      "metadata": {
        "id": "Q27XRkX6digP"
      }
    },
    {
      "cell_type": "code",
      "source": [
        "if b>a:\n",
        "  print(\"b is greater than a\")\n",
        "elif a>b:\n",
        "   print(\"a is greater than b\")\n",
        "else:\n",
        "  print(\"a is equal to b\")"
      ],
      "metadata": {
        "colab": {
          "base_uri": "https://localhost:8080/"
        },
        "id": "LSfimxoydj5n",
        "outputId": "b23b9067-0d81-4354-c857-dd4ecd0095a3"
      },
      "execution_count": null,
      "outputs": [
        {
          "output_type": "stream",
          "name": "stdout",
          "text": [
            "a is equal to b\n"
          ]
        }
      ]
    },
    {
      "cell_type": "markdown",
      "source": [
        "**SHORT HAND IF STATEMENT**"
      ],
      "metadata": {
        "id": "hJPZFiLseBIv"
      }
    },
    {
      "cell_type": "code",
      "source": [
        "a = 12\n",
        "b = 100\n",
        "\n",
        "if b>a: \n",
        "  print(\"b is greater than a\")"
      ],
      "metadata": {
        "colab": {
          "base_uri": "https://localhost:8080/"
        },
        "id": "ZOcrGT0PeElm",
        "outputId": "cb36f256-6eed-475e-ee5d-b3b392bfe13c"
      },
      "execution_count": null,
      "outputs": [
        {
          "output_type": "stream",
          "name": "stdout",
          "text": [
            "b is greater than a\n"
          ]
        }
      ]
    },
    {
      "cell_type": "markdown",
      "source": [
        "**SHORT HAND IF STATEMENT**"
      ],
      "metadata": {
        "id": "hqO1Ax4ae2O3"
      }
    },
    {
      "cell_type": "code",
      "source": [
        "c = 35\n",
        "d = 40\n",
        "print(\"c is greater than d\") if c>d else print(\"d is greater than c\")\n"
      ],
      "metadata": {
        "colab": {
          "base_uri": "https://localhost:8080/"
        },
        "id": "v7UzwcDne4MW",
        "outputId": "d3b716ee-fcab-4648-8e05-053f2d98dc56"
      },
      "execution_count": null,
      "outputs": [
        {
          "output_type": "stream",
          "name": "stdout",
          "text": [
            "d is greater than c\n"
          ]
        }
      ]
    },
    {
      "cell_type": "markdown",
      "source": [
        "**AND LOGIC** "
      ],
      "metadata": {
        "id": "LGSueh1zfqLH"
      }
    },
    {
      "cell_type": "code",
      "source": [
        "c = 35\n",
        "d = 40\n",
        "e = 30\n",
        "\n",
        "if d>c and c>e:\n",
        "  print(\"both condition must be true\")\n",
        "\n"
      ],
      "metadata": {
        "colab": {
          "base_uri": "https://localhost:8080/"
        },
        "id": "DGGE4oqIfwV2",
        "outputId": "58e0d27a-5b3d-442a-9202-c4ca9f70eaa8"
      },
      "execution_count": null,
      "outputs": [
        {
          "output_type": "stream",
          "name": "stdout",
          "text": [
            "both condition must be true\n"
          ]
        }
      ]
    },
    {
      "cell_type": "markdown",
      "source": [
        "**or logi if one of the operand is true** "
      ],
      "metadata": {
        "id": "fmbLxbTCgUPh"
      }
    },
    {
      "cell_type": "code",
      "source": [
        "if d>c or e>c:\n",
        "  print(\"if one of the operands is true\")"
      ],
      "metadata": {
        "colab": {
          "base_uri": "https://localhost:8080/"
        },
        "id": "8bne9wtOhDlb",
        "outputId": "979c5d32-84f6-4562-98e0-8e1421b473ca"
      },
      "execution_count": null,
      "outputs": [
        {
          "output_type": "stream",
          "name": "stdout",
          "text": [
            "if one of the operands is true\n"
          ]
        }
      ]
    },
    {
      "cell_type": "markdown",
      "source": [
        "**NESTED IF**\n",
        " "
      ],
      "metadata": {
        "id": "SxUC23Q_hNAy"
      }
    },
    {
      "cell_type": "code",
      "source": [
        "x = int(input())\n",
        "\n",
        "if x>10:\n",
        "  print(\"x is above 10\")\n",
        "elif x>20:\n",
        "  print(\"x is greater than 20\")"
      ],
      "metadata": {
        "colab": {
          "base_uri": "https://localhost:8080/"
        },
        "id": "ChZqJI1khQfr",
        "outputId": "b2872bae-41c6-4942-a7a6-3883274e4d52"
      },
      "execution_count": 56,
      "outputs": [
        {
          "name": "stdout",
          "output_type": "stream",
          "text": [
            "10\n"
          ]
        }
      ]
    },
    {
      "cell_type": "markdown",
      "source": [
        "APPLICATION 1: \"WRITE A PROGRAM THAT DETERMINE IF THE INPUT AGE IS ABLE TO VOTE or not\"\n"
      ],
      "metadata": {
        "id": "5dHfx3Ufi8KB"
      }
    },
    {
      "cell_type": "code",
      "source": [
        "age = int(input(\"Enter your age: \"))\n",
        "\n",
        "if age >= 18:\n",
        "    print(\"You are qualified to vote!\")\n",
        "else:\n",
        "  print(\"You are not qualified to vote!\")"
      ],
      "metadata": {
        "colab": {
          "base_uri": "https://localhost:8080/"
        },
        "id": "a-S-px5jjBPw",
        "outputId": "5f0fb211-6241-4d5b-c3d7-f88491023de8"
      },
      "execution_count": 46,
      "outputs": [
        {
          "output_type": "stream",
          "name": "stdout",
          "text": [
            "Enter your age: 90\n",
            "You are qualified to vote!\n"
          ]
        }
      ]
    },
    {
      "cell_type": "markdown",
      "source": [
        "**APPLICATION 2**"
      ],
      "metadata": {
        "id": "ScFWGsickS1h"
      }
    },
    {
      "cell_type": "code",
      "source": [
        ""
      ],
      "metadata": {
        "id": "kX6duG-rkVgT"
      },
      "execution_count": null,
      "outputs": []
    },
    {
      "cell_type": "markdown",
      "source": [
        ""
      ],
      "metadata": {
        "id": "ApFzpb1yk2l_"
      }
    },
    {
      "cell_type": "code",
      "source": [
        "week = [\"Sunday, Monday, Tuesday, Wednesday, Thursday, Friday, Saturday\"]\n",
        "\n",
        "for x in week:\n",
        "  print(x)\n"
      ],
      "metadata": {
        "colab": {
          "base_uri": "https://localhost:8080/"
        },
        "id": "-0iORWSuk3I3",
        "outputId": "da05879f-029e-4034-a392-8a1e308c9c4f"
      },
      "execution_count": null,
      "outputs": [
        {
          "output_type": "stream",
          "name": "stdout",
          "text": [
            "Sunday, Monday, Tuesday, Wednesday, Thursday, Friday, Saturday\n"
          ]
        }
      ]
    },
    {
      "cell_type": "code",
      "source": [
        "y = 3\n",
        "while y<6:\n",
        "  print(y)\n",
        "  if y == 3:\n",
        "    break\n",
        "  y+=1"
      ],
      "metadata": {
        "colab": {
          "base_uri": "https://localhost:8080/"
        },
        "id": "HwhrxCR2mdzi",
        "outputId": "4ff55c98-38d2-4b10-9164-d5d178d42f5c"
      },
      "execution_count": 50,
      "outputs": [
        {
          "output_type": "stream",
          "name": "stdout",
          "text": [
            "3\n"
          ]
        }
      ]
    }
  ]
}